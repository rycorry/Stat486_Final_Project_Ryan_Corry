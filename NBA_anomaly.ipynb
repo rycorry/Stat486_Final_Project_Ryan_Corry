{
  "nbformat": 4,
  "nbformat_minor": 0,
  "metadata": {
    "colab": {
      "provenance": []
    },
    "kernelspec": {
      "name": "python3",
      "display_name": "Python 3"
    },
    "language_info": {
      "name": "python"
    }
  },
  "cells": [
    {
      "cell_type": "code",
      "source": [
        "import pandas as pd\n",
        "import numpy as np\n",
        "import matplotlib.pyplot as plt\n",
        "from sklearn.tree import DecisionTreeClassifier\n",
        "import shap\n",
        "from sklearn.ensemble import RandomForestClassifier\n",
        "from sklearn.model_selection import train_test_split, cross_val_score\n",
        "from sklearn import tree\n",
        "import seaborn as sns\n",
        "from sklearn.datasets import make_blobs, make_classification\n",
        "from sklearn.inspection import DecisionBoundaryDisplay\n",
        "from matplotlib import cm\n",
        "from matplotlib.colors import ListedColormap, LinearSegmentedColormap\n",
        "import sklearn.tree as tree\n",
        "from sklearn.metrics import accuracy_score, confusion_matrix\n",
        "from sklearn.preprocessing import LabelEncoder\n",
        "from tensorflow.keras.models import Sequential\n",
        "from tensorflow.keras.layers import Dense\n",
        "from tensorflow.keras.optimizers import Adam\n",
        "import tensorflow as tf\n",
        "import sklearn\n",
        "import pandas as pd\n",
        "import numpy as np\n",
        "import matplotlib.pyplot as plt\n",
        "import os\n",
        "from sklearn.metrics import f1_score\n",
        "from sklearn.mixture import GaussianMixture\n",
        "from sklearn.preprocessing import StandardScaler"
      ],
      "metadata": {
        "id": "-eVOxqYgfyXj"
      },
      "execution_count": 9,
      "outputs": []
    },
    {
      "cell_type": "code",
      "source": [
        "NBA = pd.read_csv(\"hf://datasets/suzyanil/nba-data/nba_games_stats.csv\")\n",
        "NBA.to_csv(\"NBA_dataset.csv\", index=False)"
      ],
      "metadata": {
        "id": "ZcpJD9bSf6q4"
      },
      "execution_count": 10,
      "outputs": []
    },
    {
      "cell_type": "code",
      "source": [
        "NBA['WINorLOSS'] = LabelEncoder().fit_transform(NBA['WINorLOSS'])"
      ],
      "metadata": {
        "id": "D5uUekW5f8Og"
      },
      "execution_count": 11,
      "outputs": []
    },
    {
      "cell_type": "code",
      "source": [
        "X = NBA.drop(columns=['WINorLOSS', 'Date', 'Team', 'Opponent', 'Game', 'Unnamed: 0', 'Home','TeamPoints','OpponentPoints'])\n",
        "y = NBA['WINorLOSS']\n",
        "features = X.columns\n",
        "X_train, X_valid, y_train, y_valid = train_test_split(X, y, test_size=0.2, random_state=42)"
      ],
      "metadata": {
        "id": "RoeagEGqf_FF"
      },
      "execution_count": 5,
      "outputs": []
    },
    {
      "cell_type": "code",
      "execution_count": 13,
      "metadata": {
        "colab": {
          "base_uri": "https://localhost:8080/"
        },
        "id": "asxgqlFWfxgM",
        "outputId": "1dee3e09-69ce-4bac-c613-ef98d1573386"
      },
      "outputs": [
        {
          "output_type": "stream",
          "name": "stdout",
          "text": [
            "[[-0.16759841  0.11307923 -0.27138255 -0.13008588  0.06975827 -0.24995517\n",
            "  -0.08195229 -0.08768693 -0.00509855  0.13227157 -0.34905702 -0.18209352\n",
            "   0.03854517 -0.28182805 -0.1015132  -0.13113132  0.46230557 -0.32516376\n",
            "   0.73942853  0.37797164 -0.07866444  0.66287455 -0.10355609 -0.14216004\n",
            "   0.05974341 -0.358842   -0.07645024  0.40347583 -0.04237908  0.10181359\n",
            "   0.07945685 -0.08127652]\n",
            " [-0.41954247  0.18701192 -0.58235526 -0.37437909 -0.06241805 -0.523202\n",
            "   0.20788064  0.26967078 -0.08651207  0.26656806  0.5256655  -0.3082065\n",
            "   0.00556068  0.23708301  0.04459678  0.27243163 -0.46505416  0.20254023\n",
            "  -0.6431994  -0.43316381 -0.077705   -0.5962469   0.22801735  0.29547765\n",
            "  -0.09710797  0.29901709  0.51252504 -0.34849299  0.01148708  0.2167304\n",
            "   0.03216656  0.25257451]\n",
            " [ 0.50592703 -0.26207166  0.73917124  0.43291634 -0.01493591  0.66993693\n",
            "  -0.09350574 -0.13904146  0.07625988 -0.3460164  -0.10134217  0.42784391\n",
            "  -0.04130823  0.07279668  0.05989496 -0.09993436 -0.0565658   0.14258888\n",
            "  -0.17352475 -0.0025488   0.13907092 -0.13935063 -0.08954551 -0.10844931\n",
            "   0.0232358   0.0950439  -0.35018598 -0.09672772  0.03089006 -0.27586805\n",
            "  -0.10224053 -0.13103767]]\n",
            "[[[ 0.81100426  0.46365296  0.55857776 ... -0.05253453  0.05831889\n",
            "   -0.05174867]\n",
            "  [ 0.46365296  0.8236688  -0.05545165 ...  0.20483509  0.10951493\n",
            "   -0.1187571 ]\n",
            "  [ 0.55857776 -0.05545165  0.63874871 ... -0.1943722  -0.01286175\n",
            "    0.02368797]\n",
            "  ...\n",
            "  [-0.05253453  0.20483509 -0.1943722  ...  1.01107659  0.02335414\n",
            "   -0.03414301]\n",
            "  [ 0.05831889  0.10951493 -0.01286175 ...  0.02335414  0.99416003\n",
            "    0.17314027]\n",
            "  [-0.05174867 -0.1187571   0.02368797 ... -0.03414301  0.17314027\n",
            "    0.82576413]]\n",
            "\n",
            " [[ 0.93144529  0.61308837  0.60788398 ... -0.06283558  0.05702387\n",
            "   -0.06644695]\n",
            "  [ 0.61308837  1.25733738 -0.13933296 ...  0.30569368  0.17445716\n",
            "   -0.16489822]\n",
            "  [ 0.60788398 -0.13933296  0.74276916 ... -0.26163868 -0.04990545\n",
            "    0.03431922]\n",
            "  ...\n",
            "  [-0.06283558  0.30569368 -0.26163868 ...  1.19612957  0.04582807\n",
            "   -0.04127903]\n",
            "  [ 0.05702387  0.17445716 -0.04990545 ...  0.04582807  1.02170712\n",
            "    0.16172054]\n",
            "  [-0.06644695 -0.16489822  0.03431922 ... -0.04127903  0.16172054\n",
            "    1.14273523]]\n",
            "\n",
            " [[ 0.80862927  0.49481163  0.50577113 ... -0.06243102  0.07527432\n",
            "   -0.12607001]\n",
            "  [ 0.49481163  0.8458566  -0.1205635  ...  0.15517613  0.08589386\n",
            "   -0.19534332]\n",
            "  [ 0.50577113 -0.1205635   0.66000145 ... -0.19193229  0.01408382\n",
            "    0.01485167]\n",
            "  ...\n",
            "  [-0.06243102  0.15517613 -0.19193229 ...  0.7028286  -0.01004031\n",
            "   -0.03862787]\n",
            "  [ 0.07527432  0.08589386  0.01408382 ... -0.01004031  0.97032866\n",
            "    0.14960312]\n",
            "  [-0.12607001 -0.19534332  0.01485167 ... -0.03862787  0.14960312\n",
            "    0.97205952]]]\n",
            "[0.34291804 0.29710651 0.35997546]\n"
          ]
        }
      ],
      "source": [
        "scaler = StandardScaler()\n",
        "X_scaled = scaler.fit_transform(X)\n",
        "\n",
        "gmm = GaussianMixture(n_components=3, random_state=42)\n",
        "gmm.fit(X_scaled)\n",
        "\n",
        "means = gmm.means_\n",
        "covariances = gmm.covariances_\n",
        "mixing_weights = gmm.weights_\n",
        "\n",
        "# Print the results\n",
        "print(means)\n",
        "print(covariances)\n",
        "print(mixing_weights)"
      ]
    },
    {
      "cell_type": "code",
      "source": [
        "densities = gmm.score_samples(X_scaled)\n",
        "\n",
        "threshold = np.percentile(densities,1)\n",
        "outliers = densities < threshold\n",
        "NBA.iloc[outliers,0]"
      ],
      "metadata": {
        "colab": {
          "base_uri": "https://localhost:8080/",
          "height": 458
        },
        "id": "qYTaJHMpga_H",
        "outputId": "3265acf5-eed7-47bf-8033-18ea1f6ebc1f"
      },
      "execution_count": 14,
      "outputs": [
        {
          "output_type": "execute_result",
          "data": {
            "text/plain": [
              "230       672\n",
              "286       415\n",
              "292       473\n",
              "307       623\n",
              "339       124\n",
              "        ...  \n",
              "8910    55108\n",
              "9177    76111\n",
              "9203    20112\n",
              "9528    17116\n",
              "9778    21158\n",
              "Name: Unnamed: 0, Length: 99, dtype: int64"
            ],
            "text/html": [
              "<div>\n",
              "<style scoped>\n",
              "    .dataframe tbody tr th:only-of-type {\n",
              "        vertical-align: middle;\n",
              "    }\n",
              "\n",
              "    .dataframe tbody tr th {\n",
              "        vertical-align: top;\n",
              "    }\n",
              "\n",
              "    .dataframe thead th {\n",
              "        text-align: right;\n",
              "    }\n",
              "</style>\n",
              "<table border=\"1\" class=\"dataframe\">\n",
              "  <thead>\n",
              "    <tr style=\"text-align: right;\">\n",
              "      <th></th>\n",
              "      <th>Unnamed: 0</th>\n",
              "    </tr>\n",
              "  </thead>\n",
              "  <tbody>\n",
              "    <tr>\n",
              "      <th>230</th>\n",
              "      <td>672</td>\n",
              "    </tr>\n",
              "    <tr>\n",
              "      <th>286</th>\n",
              "      <td>415</td>\n",
              "    </tr>\n",
              "    <tr>\n",
              "      <th>292</th>\n",
              "      <td>473</td>\n",
              "    </tr>\n",
              "    <tr>\n",
              "      <th>307</th>\n",
              "      <td>623</td>\n",
              "    </tr>\n",
              "    <tr>\n",
              "      <th>339</th>\n",
              "      <td>124</td>\n",
              "    </tr>\n",
              "    <tr>\n",
              "      <th>...</th>\n",
              "      <td>...</td>\n",
              "    </tr>\n",
              "    <tr>\n",
              "      <th>8910</th>\n",
              "      <td>55108</td>\n",
              "    </tr>\n",
              "    <tr>\n",
              "      <th>9177</th>\n",
              "      <td>76111</td>\n",
              "    </tr>\n",
              "    <tr>\n",
              "      <th>9203</th>\n",
              "      <td>20112</td>\n",
              "    </tr>\n",
              "    <tr>\n",
              "      <th>9528</th>\n",
              "      <td>17116</td>\n",
              "    </tr>\n",
              "    <tr>\n",
              "      <th>9778</th>\n",
              "      <td>21158</td>\n",
              "    </tr>\n",
              "  </tbody>\n",
              "</table>\n",
              "<p>99 rows × 1 columns</p>\n",
              "</div><br><label><b>dtype:</b> int64</label>"
            ]
          },
          "metadata": {},
          "execution_count": 14
        }
      ]
    }
  ]
}